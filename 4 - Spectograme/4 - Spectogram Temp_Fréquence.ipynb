{
 "cells": [
  {
   "cell_type": "markdown",
   "id": "28451443-c954-4950-813d-89f7f6badc45",
   "metadata": {
    "tags": []
   },
   "source": [
    "___\n",
    "### <center> <u> <h1> <strong> Diagramme Temp - Fréquence </strong> </h1> </center>\n",
    "\n",
    "<h3>\n",
    "Dans ce notebook on verra en détails :\n",
    "    \n",
    "<strong> \n",
    "\n",
    "- L'utilisation de la transformée de Fourier en Python\n",
    "\n",
    "- La transformée de Gabor en Python\n",
    "    \n",
    "- L'utilisation de la transformée de Gabor pour obtenir la photographie de la transformée de Fourier à chaque instant du temps ( spectograme )\n",
    "\n",
    "\n",
    "</strong>\n",
    "</h3>\n",
    "    \n",
    "---"
   ]
  },
  {
   "cell_type": "markdown",
   "id": "610dd8e5-dcd4-4d24-b30b-f0190b772315",
   "metadata": {},
   "source": [
    "<h1> <strong> 1 - Importation des modules necessaires"
   ]
  },
  {
   "cell_type": "code",
   "execution_count": 1,
   "id": "26cbbee3-c8b3-4ad2-8957-74076cd6800c",
   "metadata": {},
   "outputs": [],
   "source": [
    "################################################################################\n",
    "##################  Bibliothèque utilitaire mathémlatiques  ####################\n",
    "################################################################################\n",
    "import numpy as np\n",
    "import pandas as pd\n",
    "\n",
    "################################################################################\n",
    "##################         Bibliothèque graphique           ####################\n",
    "################################################################################\n",
    "import matplotlib.pyplot as plt\n",
    "\n",
    "################################################################################\n",
    "################  Bibliothèque utilitaire de fichiers audios  ##################\n",
    "################################################################################\n",
    "try : \n",
    "    import librosa\n",
    "except :\n",
    "    !pip install --upgrade pip\n",
    "    !pip install librosa\n",
    "    import librosa\n",
    "\n",
    "################################################################################\n",
    "##################    Bibliothèque de gestion du système    ####################\n",
    "################################################################################\n",
    "import os\n",
    "\n",
    "################################################################################\n",
    "######  Bibliothèque pour l'écoute de fichiers audio dans notre cas   ##########\n",
    "################################################################################\n",
    "import IPython.display as ipd\n",
    "\n",
    "try :\n",
    "    from tqdm import tqdm\n",
    "except :\n",
    "    ! pip install tqdm\n",
    "    from tqdm import tqdm"
   ]
  },
  {
   "cell_type": "code",
   "execution_count": null,
   "id": "bb4f61b1-6fa5-417d-b894-f5b8159c36af",
   "metadata": {},
   "outputs": [],
   "source": []
  },
  {
   "cell_type": "code",
   "execution_count": null,
   "id": "a4a1ffdc-6ce6-4af6-8893-f8e28091f0c0",
   "metadata": {},
   "outputs": [],
   "source": []
  },
  {
   "cell_type": "code",
   "execution_count": null,
   "id": "da157696-df5d-4bfe-ba22-383eb9cbf7df",
   "metadata": {},
   "outputs": [],
   "source": []
  },
  {
   "cell_type": "code",
   "execution_count": null,
   "id": "f3761626-19e6-4001-a17f-82ec736872be",
   "metadata": {},
   "outputs": [],
   "source": []
  },
  {
   "cell_type": "markdown",
   "id": "8bf761ae-8ea3-4150-b3be-0ff8e7a07f34",
   "metadata": {},
   "source": [
    "---\n",
    "\n",
    "- ## <strong> Authors </strong>\n",
    "\n",
    " #### <ul> <p> - <strong><a href=\"https://www.linkedin.com/in/brice-kengni-zanguim/\" target=\"_blank\">Brice KENGNI ZANGUIM :</a> </strong></p> <ul> Artificial Intelligence Engeneer at home and holds a PhD in Nano-physic. His research focused on using <strong>Machine Learning, Deep Learning, Signal Processing, Natural langage Processing, Computer Vision and so one</strong> to figure out how the world behave and impact human cognition. Brice KENGNI ZANGUIM has been working at home on mastering his own AI projects in many domains while seeking for a position in a company. </ul></ul>\n",
    "\n",
    "\n",
    "---\n",
    "\n",
    "- ## <strong> Other Contributors </strong>\n",
    "\n",
    "#### <ul>None</ul>\n",
    "\n",
    "---\n",
    "\n",
    "- ## <strong> Change Log </strong>\n",
    "\n",
    "|  Date (DD-MM-YYYY) |  Version | Changed By  |  Change Description |  Purpose  |\n",
    "|---|---|---|---|---|\n",
    "| 16- 03 - 2023 | 1.0 | Brice KENGNI ZANGUIM | Updated the file | Mem,save |\n",
    "\n",
    "|-|-|-|-|\n",
    "|   |   |   |   |   |\n",
    "\n",
    "### <h3 align=\"center\"> © BKZ Corporation 2023. All rights reserved. <h3/>\n",
    "---"
   ]
  }
 ],
 "metadata": {
  "kernelspec": {
   "display_name": "Python 3 (ipykernel)",
   "language": "python",
   "name": "python3"
  },
  "language_info": {
   "codemirror_mode": {
    "name": "ipython",
    "version": 3
   },
   "file_extension": ".py",
   "mimetype": "text/x-python",
   "name": "python",
   "nbconvert_exporter": "python",
   "pygments_lexer": "ipython3",
   "version": "3.9.15"
  },
  "widgets": {
   "application/vnd.jupyter.widget-state+json": {
    "state": {},
    "version_major": 2,
    "version_minor": 0
   }
  }
 },
 "nbformat": 4,
 "nbformat_minor": 5
}
