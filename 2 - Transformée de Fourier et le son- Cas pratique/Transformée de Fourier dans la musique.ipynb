{
 "cells": [
  {
   "cell_type": "markdown",
   "id": "7d0f5c67-8e3f-4a18-8f89-47be186f1147",
   "metadata": {
    "tags": []
   },
   "source": [
    "___\n",
    "### <center> <u> <h1> <strong> Transformée de Fourrier Dans la musique </strong> </h1> </center>\n",
    "\n",
    "<h3>\n",
    "Dans ce notebook on verra en détails des exemples sur comment :\n",
    "    \n",
    "<strong> \n",
    "\n",
    "- Construire un signal\n",
    "\n",
    "- Représenter ce signal\n",
    "\n",
    "- Éffectuer une Transformée de Fourrier\n",
    "\n",
    "- Faire un spectre de fréquences\n",
    "    \n",
    "- Faire le spectre de phase du signal\n",
    "    \n",
    "- Automatiser le procédé à l'aide d'un Objet personalisé en Python\n",
    "    </strong>\n",
    "</h3>\n",
    "---"
   ]
  },
  {
   "cell_type": "markdown",
   "id": "a78ad816-af4b-47d8-ae0c-12be1750937c",
   "metadata": {},
   "source": [
    "<h2> <strong> 1 - Importation des modules necessaires"
   ]
  },
  {
   "cell_type": "code",
   "execution_count": 1,
   "id": "f70f9a0f-fb99-40f3-a2fc-fc8b4054c7a7",
   "metadata": {},
   "outputs": [],
   "source": [
    "################################################################################\n",
    "##################  Bibliothèque utilitaire mathémlatiques  ####################\n",
    "################################################################################\n",
    "import numpy as np\n",
    "\n",
    "################################################################################\n",
    "##################         Bibliothèque graphique           ####################\n",
    "################################################################################\n",
    "import matplotlib.pyplot as plt\n",
    "\n",
    "################################################################################\n",
    "################  Bibliothèque utilitaire de fichiers audios  ##################\n",
    "################################################################################\n",
    "try : \n",
    "    import librosa\n",
    "except :\n",
    "    !pip install --upgrade pip\n",
    "    !pip install librosa\n",
    "    import librosa\n",
    "\n",
    "################################################################################\n",
    "##################    Bibliothèque de gestion du système    ####################\n",
    "################################################################################\n",
    "import os\n",
    "\n",
    "################################################################################\n",
    "######  Bibliothèque pour l'écoute de fichiers audio dans notre cas   ##########\n",
    "################################################################################\n",
    "import IPython.display as ipd"
   ]
  },
  {
   "cell_type": "markdown",
   "id": "9ee35186-bab2-4fa9-8690-f2da092daaed",
   "metadata": {},
   "source": [
    "<h2> <strong> 2 - Importation des modules necessaires"
   ]
  },
  {
   "cell_type": "code",
   "execution_count": null,
   "id": "4c475a9b-730f-4cee-8271-822be3bfae99",
   "metadata": {},
   "outputs": [],
   "source": []
  },
  {
   "cell_type": "code",
   "execution_count": null,
   "id": "604ccce9-fef9-4793-b675-108ccf495416",
   "metadata": {},
   "outputs": [],
   "source": []
  },
  {
   "cell_type": "code",
   "execution_count": null,
   "id": "a085800a-7e0f-4cdf-aca7-7abe92371bae",
   "metadata": {},
   "outputs": [],
   "source": []
  },
  {
   "cell_type": "markdown",
   "id": "01187c51-eb0f-4401-ac34-fd20d0af6503",
   "metadata": {},
   "source": [
    "<h2> <strong> 3 - Importation des modules necessaires"
   ]
  },
  {
   "cell_type": "code",
   "execution_count": null,
   "id": "21b2b4f3-ca41-4c0e-9c2c-d3a3eb535a06",
   "metadata": {},
   "outputs": [],
   "source": []
  },
  {
   "cell_type": "code",
   "execution_count": null,
   "id": "5436f2d7-0c60-4d96-89ec-a87f65bd1b51",
   "metadata": {},
   "outputs": [],
   "source": []
  },
  {
   "cell_type": "code",
   "execution_count": null,
   "id": "a257eae8-71a2-49f8-8d1a-e259645c7c21",
   "metadata": {},
   "outputs": [],
   "source": []
  },
  {
   "cell_type": "code",
   "execution_count": null,
   "id": "bcb3daeb-9ae9-4159-be9c-f9abb73c5dc6",
   "metadata": {},
   "outputs": [],
   "source": []
  },
  {
   "cell_type": "markdown",
   "id": "ffb2782f-3e5f-4766-aa13-af8bfb026a7f",
   "metadata": {},
   "source": [
    "<h2> <strong> 4 - Importation des modules necessaires"
   ]
  },
  {
   "cell_type": "code",
   "execution_count": null,
   "id": "4eca3eb7-2204-40f3-af58-cc79282b1121",
   "metadata": {},
   "outputs": [],
   "source": []
  },
  {
   "cell_type": "code",
   "execution_count": null,
   "id": "a0e0dd4c-d91a-495c-afc8-a48895dc11c3",
   "metadata": {},
   "outputs": [],
   "source": []
  },
  {
   "cell_type": "code",
   "execution_count": null,
   "id": "f6f4e6f3-c3c3-4e29-b3ad-80074ad12cf3",
   "metadata": {},
   "outputs": [],
   "source": []
  },
  {
   "cell_type": "code",
   "execution_count": null,
   "id": "fdab914d-5da9-4e85-b76f-1d05037bb468",
   "metadata": {},
   "outputs": [],
   "source": []
  },
  {
   "cell_type": "markdown",
   "id": "7d9988ec-6962-4f33-943f-c9d2ef807794",
   "metadata": {},
   "source": [
    "<h2> <strong> 5 - Importation des modules necessaires"
   ]
  },
  {
   "cell_type": "code",
   "execution_count": null,
   "id": "6f080f7b-5553-4821-9936-b126a2df57cb",
   "metadata": {},
   "outputs": [],
   "source": []
  },
  {
   "cell_type": "code",
   "execution_count": null,
   "id": "03b227f8-ca2e-4737-9194-fb3d063f70ed",
   "metadata": {},
   "outputs": [],
   "source": []
  },
  {
   "cell_type": "code",
   "execution_count": null,
   "id": "f0ec4cb0-cc63-488b-9b0e-569f1162c672",
   "metadata": {},
   "outputs": [],
   "source": []
  },
  {
   "cell_type": "markdown",
   "id": "4a5d8b7f-35de-4f6b-b733-06cc1e4368fd",
   "metadata": {},
   "source": [
    "---\n",
    "\n",
    "- ## <strong> Authors </strong>\n",
    "\n",
    " #### <ul> <p> - <strong><a href=\"https://www.linkedin.com/in/brice-kengni-zanguim/\" target=\"_blank\">Brice KENGNI ZANGUIM :</a> </strong></p> <ul> Artificial Intelligence Engeneer at home and holds a PhD in Nano-physic. His research focused on using <strong>Machine Learning, Deep Learning, Signal Processing, Natural langage Processing, Computer Vision and so one</strong> to figure out how the world behave and impact human cognition. Brice KENGNI ZANGUIM has been working at home on mastering his own AI projects in many domains while seeking for a position in a company. </ul></ul>\n",
    "\n",
    "\n",
    "---\n",
    "\n",
    "- ## <strong> Other Contributors </strong>\n",
    "\n",
    "#### <ul>None</ul>\n",
    "\n",
    "---\n",
    "\n",
    "- ## <strong> Change Log </strong>\n",
    "\n",
    "|  Date (DD-MM-YYYY) |  Version | Changed By  |  Change Description |  Purpose  |\n",
    "|---|---|---|---|---|\n",
    "| 11- 03 - 2023 | 1.0 | Brice KENGNI ZANGUIM | Updated the file | Mem,save |\n",
    "|-|-|-|-|\n",
    "|   |   |   |   |   |\n",
    "\n",
    "### <h3 align=\"center\"> © BKZ Corporation 2023. All rights reserved. <h3/>\n",
    "---"
   ]
  },
  {
   "cell_type": "code",
   "execution_count": null,
   "id": "5ca4d5f6-94e1-4f2b-8ba8-e0f93ff8286f",
   "metadata": {},
   "outputs": [],
   "source": []
  }
 ],
 "metadata": {
  "kernelspec": {
   "display_name": "Python 3 (ipykernel)",
   "language": "python",
   "name": "python3"
  },
  "language_info": {
   "codemirror_mode": {
    "name": "ipython",
    "version": 3
   },
   "file_extension": ".py",
   "mimetype": "text/x-python",
   "name": "python",
   "nbconvert_exporter": "python",
   "pygments_lexer": "ipython3",
   "version": "3.9.15"
  },
  "widgets": {
   "application/vnd.jupyter.widget-state+json": {
    "state": {},
    "version_major": 2,
    "version_minor": 0
   }
  }
 },
 "nbformat": 4,
 "nbformat_minor": 5
}
